{
 "cells": [
  {
   "cell_type": "code",
   "execution_count": 10,
   "metadata": {},
   "outputs": [],
   "source": [
    "\n",
    "\"\"\"\n",
    "Briar Doty\n",
    "AMATH 584 - midterm\n",
    "11/6/20\n",
    "Full repository available at https://github.com/briardoty/amath584/midterm\n",
    "\"\"\"\n",
    "\n",
    "%matplotlib inline\n",
    "\n",
    "import matplotlib.pyplot as plt\n",
    "import numpy as np\n",
    "import math\n",
    "from functools import reduce"
   ]
  },
  {
   "cell_type": "code",
   "execution_count": 44,
   "metadata": {},
   "outputs": [],
   "source": [
    "# V - LU decomposition with pivoting\n",
    "def lu_decomp(A):\n",
    "    \n",
    "    # only works for square matrices\n",
    "    m, n = A.shape\n",
    "    if m != n:\n",
    "        return -1\n",
    "    \n",
    "    # define result matrices\n",
    "    L, U = np.zeros_like(A), np.copy(A)\n",
    "    L_arr = []\n",
    "    \n",
    "    for k in range(m):\n",
    "        \n",
    "        # start with I for L_k\n",
    "        L_k = np.identity(m)\n",
    "        \n",
    "        # update kth column below diagonals\n",
    "        for j in range(k+1,m):\n",
    "            L_k[j,k] = -U[j,k]/U[k,k]\n",
    "            \n",
    "        # store L_k\n",
    "        L_arr.append(L_k)\n",
    "        \n",
    "        # update \"A\" using L_k, building U in the process\n",
    "        U = L_k@U\n",
    "         \n",
    "    # update L\n",
    "    L = np.copy(L_arr[0])\n",
    "    L = np.linalg.inv(L)\n",
    "    for Li in L_arr[1:]:\n",
    "        Linv = np.linalg.inv(Li)\n",
    "        L = L@Linv\n",
    "        \n",
    "    return L, U"
   ]
  },
  {
   "cell_type": "code",
   "execution_count": 45,
   "metadata": {},
   "outputs": [
    {
     "name": "stdout",
     "output_type": "stream",
     "text": [
      "L:\n",
      " [[ 1.   0.   0. ]\n",
      " [-3.   1.   0. ]\n",
      " [ 6.  -1.5  1. ]]\n",
      "\n",
      "U:\n",
      " [[ 1.  -2.   0. ]\n",
      " [ 0.  -8.   1. ]\n",
      " [ 0.   0.   4.5]]\n",
      "\n",
      "A:\n",
      " [[ 1. -2.  0.]\n",
      " [-3. -2.  1.]\n",
      " [ 6.  0.  3.]]\n",
      "\n",
      "A_lu:\n",
      " [[ 1. -2.  0.]\n",
      " [-3. -2.  1.]\n",
      " [ 6.  0.  3.]]\n",
      "\n"
     ]
    }
   ],
   "source": [
    "# V - demonstrate functionality on pre-defined matrix\n",
    "A = np.array([\n",
    "    [1.,-2.,0],\n",
    "    [-3.,-2.,1],\n",
    "    [6.,0.,3.]\n",
    "])\n",
    "\n",
    "L, U = lu_decomp(A)\n",
    "A_lu = L@U\n",
    "print(f\"L:\\n {L}\\n\")\n",
    "print(f\"U:\\n {U}\\n\")\n",
    "print(f\"A_lu:\\n {A_lu}\\n\")\n"
   ]
  },
  {
   "cell_type": "code",
   "execution_count": 15,
   "metadata": {},
   "outputs": [
    {
     "name": "stdout",
     "output_type": "stream",
     "text": [
      "[[  1.           0.           0.        ]\n",
      " [ -0.42112604   1.           0.        ]\n",
      " [-12.38535966  10.64415258   1.        ]]\n",
      "[[ 0.11539608  0.41102389  0.85714242]\n",
      " [ 0.          0.23203388  0.44478616]\n",
      " [ 0.          0.         -1.96863647]]\n",
      "[[0.11539608 0.41102389 0.85714242]\n",
      " [0.0485963  0.40512674 0.80575115]\n",
      " [0.91195561 0.77844783 0.07084248]]\n",
      "[[ 0.11539608  0.41102389  0.85714242]\n",
      " [-0.0485963   0.05894102  0.08382117]\n",
      " [-1.429222   -2.62087467 -7.85028188]]\n"
     ]
    }
   ],
   "source": [
    "# V - demonstrate functionality on random matrix\n",
    "m = 5\n",
    "A = np.random.rand(m,m)\n",
    "\n",
    "L, U = lu_decomp(A)\n",
    "A_lu = L@U\n",
    "print(L)\n",
    "print(U)\n",
    "print(A)\n",
    "print(A_lu)"
   ]
  }
 ],
 "metadata": {
  "kernelspec": {
   "display_name": "amath2",
   "language": "python",
   "name": "amath2"
  },
  "language_info": {
   "codemirror_mode": {
    "name": "ipython",
    "version": 3
   },
   "file_extension": ".py",
   "mimetype": "text/x-python",
   "name": "python",
   "nbconvert_exporter": "python",
   "pygments_lexer": "ipython3",
   "version": "3.7.9"
  }
 },
 "nbformat": 4,
 "nbformat_minor": 4
}
