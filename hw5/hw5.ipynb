{
 "cells": [
  {
   "cell_type": "code",
   "execution_count": 2,
   "metadata": {},
   "outputs": [],
   "source": [
    "\"\"\"\n",
    "Briar Doty\n",
    "AMATH 584 - HW5\n",
    "12/1/20\n",
    "Full repository available at https://github.com/briardoty/amath584/tree/main/hw5\n",
    "\"\"\"\n",
    "\n",
    "%matplotlib inline\n",
    "\n",
    "import matplotlib.pyplot as plt\n",
    "import numpy as np"
   ]
  },
  {
   "cell_type": "code",
   "execution_count": 35,
   "metadata": {},
   "outputs": [
    {
     "name": "stdout",
     "output_type": "stream",
     "text": [
      "[ 5.75991252 -1.02865299 -0.79592572 -0.57495087 -0.38256266 -0.13599609\n",
      "  0.36909377  1.17990254  0.86303555  0.97022023]\n"
     ]
    }
   ],
   "source": [
    "# 1a - generate a symmetric matrix A and find its eigenvalues/vectors\n",
    "\n",
    "def get_sym(m):\n",
    "    A = np.zeros((m,m))\n",
    "    \n",
    "    for i in range(m):\n",
    "        for j in range(i,m):\n",
    "            r = np.random.rand()\n",
    "            A[i,j] = r\n",
    "            A[j,i] = r\n",
    "    \n",
    "    return A\n",
    "\n",
    "A = get_sym(10)\n",
    "w, v = np.linalg.eig(A)\n",
    "print(w)"
   ]
  },
  {
   "cell_type": "code",
   "execution_count": 37,
   "metadata": {},
   "outputs": [
    {
     "name": "stdout",
     "output_type": "stream",
     "text": [
      "Error: 5.329070518200751e-15\n"
     ]
    }
   ],
   "source": [
    "# 1bi - find the largest eigenvalue with the power iteration method\n",
    "\n",
    "def get_largest_eig(A, k=100):\n",
    "    \n",
    "    # guess first eigenvector\n",
    "    x = A[:,0]\n",
    "    xnorm = np.linalg.norm(x)\n",
    "    x = np.divide(x, xnorm)\n",
    "\n",
    "    # iterate\n",
    "    for i in range(k):\n",
    "        x = A@x\n",
    "        xnorm = np.linalg.norm(x)\n",
    "        x = np.divide(x, xnorm)\n",
    "        lmbda = x.T@A@x\n",
    "        \n",
    "    return lmbda, x\n",
    "\n",
    "lmbda, x = get_largest_eig(A)\n",
    "    \n",
    "# error\n",
    "err = np.sqrt((lmbda - w[0])**2)\n",
    "print(f\"Error: {err}\")\n"
   ]
  },
  {
   "cell_type": "code",
   "execution_count": 43,
   "metadata": {},
   "outputs": [
    {
     "data": {
      "text/plain": [
       "[Text(0.0, 0, '1'),\n",
       " Text(0.5, 0, '2'),\n",
       " Text(1.0, 0, '5'),\n",
       " Text(1.5, 0, '10'),\n",
       " Text(2.0, 0, '100'),\n",
       " Text(2.5, 0, '1000')]"
      ]
     },
     "execution_count": 43,
     "metadata": {},
     "output_type": "execute_result"
    },
    {
     "data": {
      "image/png": "[encoded data removed]",
      "text/plain": [
       "<Figure size 576x360 with 1 Axes>"
      ]
     },
     "metadata": {
      "needs_background": "light"
     },
     "output_type": "display_data"
    }
   ],
   "source": [
    "# 1bii - compare accuracy as a function of iterations\n",
    "iteration_arr = [1, 2, 5, 10, 100, 1000]\n",
    "\n",
    "# fig\n",
    "fig, ax = plt.subplots(figsize=(8,5))\n",
    "ax.axhline(y=0, color=\"k\", linestyle=\"--\", alpha=0.2)\n",
    "xpos, width = 0, 1/len(iteration_arr)\n",
    "labels, ticks = [], []\n",
    "\n",
    "# different iterations k\n",
    "for k in iteration_arr:\n",
    "    \n",
    "    # call fn\n",
    "    lmbda, x = get_largest_eig(A, k)\n",
    "    \n",
    "    # error\n",
    "    err = np.sqrt((lmbda - w[0])**2)\n",
    "    \n",
    "    # plot\n",
    "    l = f\"{k}\"\n",
    "    labels.append(l)\n",
    "    ticks.append(xpos)\n",
    "    ax.bar(xpos, err, width, label=l)\n",
    "    xpos += 0.5\n",
    "    \n",
    "# plot info\n",
    "ax.set_xlabel(\"Iterations\")\n",
    "ax.set_ylabel(\"||lmbda - w[0]||\")\n",
    "ax.set_xticks(ticks)\n",
    "ax.set_yscale(\"log\")\n",
    "ax.set_xticklabels(labels)"
   ]
  },
  {
   "cell_type": "code",
   "execution_count": null,
   "metadata": {},
   "outputs": [],
   "source": [
    "# 1c - Rayleight quotient iterations\n"
   ]
  }
 ],
 "metadata": {
  "kernelspec": {
   "display_name": "amath2",
   "language": "python",
   "name": "amath2"
  },
  "language_info": {
   "codemirror_mode": {
    "name": "ipython",
    "version": 3
   },
   "file_extension": ".py",
   "mimetype": "text/x-python",
   "name": "python",
   "nbconvert_exporter": "python",
   "pygments_lexer": "ipython3",
   "version": "3.7.9"
  }
 },
 "nbformat": 4,
 "nbformat_minor": 4
}
