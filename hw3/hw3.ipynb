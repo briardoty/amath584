{
 "cells": [
  {
   "cell_type": "code",
   "execution_count": 2,
   "metadata": {},
   "outputs": [],
   "source": [
    "\"\"\"\n",
    "Briar Doty\n",
    "AMATH 584 - HW3\n",
    "11/1/20\n",
    "Full repository available at https://github.com/briardoty/amath584/hw3\n",
    "\"\"\"\n",
    "\n",
    "%matplotlib inline\n",
    "\n",
    "import matplotlib.pyplot as plt\n",
    "import numpy as np\n",
    "from scipy import linalg\n",
    "import math\n",
    "from gram_schmidt import * "
   ]
  },
  {
   "cell_type": "code",
   "execution_count": 6,
   "metadata": {},
   "outputs": [
    {
     "name": "stdout",
     "output_type": "stream",
     "text": [
      "[[0.91338413 0.7592617  0.28158094 0.05185045 0.74794646 0.40038957\n",
      "  0.8330958  0.25106117 0.11663548 0.26685627]\n",
      " [0.05771969 0.71252014 0.04689656 0.50958013 0.67022803 0.65968733\n",
      "  0.13538832 0.55942221 0.53781458 0.94157413]\n",
      " [0.92950809 0.91669217 0.50719665 0.45675708 0.58748812 0.85967378\n",
      "  0.52317993 0.66198789 0.86484395 0.29666503]\n",
      " [0.49168428 0.45020447 0.41732276 0.69173588 0.72513543 0.53964415\n",
      "  0.47015448 0.1034643  0.89808617 0.93964425]\n",
      " [0.54189884 0.07854035 0.95202286 0.81800327 0.85883278 0.56399271\n",
      "  0.45540723 0.5249009  0.78941126 0.71656187]\n",
      " [0.14988155 0.5016659  0.64967113 0.62200725 0.45454769 0.89793293\n",
      "  0.67417966 0.73880311 0.46552246 0.9132543 ]\n",
      " [0.92423636 0.76019559 0.58942548 0.78095693 0.70766914 0.77098334\n",
      "  0.32699116 0.18096187 0.46877337 0.09937657]\n",
      " [0.20016311 0.67275703 0.7682572  0.65622088 0.42374212 0.75640098\n",
      "  0.62897594 0.47040233 0.16831829 0.67249455]\n",
      " [0.6715823  0.01228128 0.72118853 0.81872664 0.45994586 0.55739676\n",
      "  0.98397948 0.66500198 0.00916861 0.78761959]\n",
      " [0.90639481 0.11189981 0.94924942 0.64371564 0.09927843 0.26055051\n",
      "  0.5070384  0.74759899 0.4701683  0.81586733]]\n"
     ]
    }
   ],
   "source": [
    "# initialize matrix\n",
    "m, n = 10, 10\n",
    "A = np.random.rand(m,n)\n",
    "print(A)"
   ]
  },
  {
   "cell_type": "code",
   "execution_count": 9,
   "metadata": {},
   "outputs": [
    {
     "name": "stdout",
     "output_type": "stream",
     "text": [
      "8.326672684688674e-17\n"
     ]
    }
   ],
   "source": [
    "Q = gram_schmidt(A)\n",
    "    \n",
    "print(Q[:,3] @ Q[:,8])\n",
    "    \n",
    "    \n",
    "    "
   ]
  },
  {
   "cell_type": "code",
   "execution_count": 52,
   "metadata": {},
   "outputs": [
    {
     "name": "stdout",
     "output_type": "stream",
     "text": [
      "0.20000000000000018\n",
      "0.20000000000000018\n"
     ]
    }
   ],
   "source": [
    "x = np.array([1,2,3])\n",
    "y = np.array([1,-1,0.4])\n",
    "\n",
    "print(x@y)\n",
    "print(np.inner(x,y))"
   ]
  }
 ],
 "metadata": {
  "kernelspec": {
   "display_name": "amath",
   "language": "python",
   "name": "amath"
  },
  "language_info": {
   "codemirror_mode": {
    "name": "ipython",
    "version": 3
   },
   "file_extension": ".py",
   "mimetype": "text/x-python",
   "name": "python",
   "nbconvert_exporter": "python",
   "pygments_lexer": "ipython3",
   "version": "3.8.5"
  }
 },
 "nbformat": 4,
 "nbformat_minor": 4
}
